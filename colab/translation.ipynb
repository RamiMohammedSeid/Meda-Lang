{
  "nbformat": 4,
  "nbformat_minor": 0,
  "metadata": {
    "colab": {
      "name": "amtoeng2.ipynb",
      "provenance": [],
      "collapsed_sections": [],
      "toc_visible": true,
      "include_colab_link": true
    },
    "kernelspec": {
      "name": "python3",
      "display_name": "Python 3"
    },
    "accelerator": "GPU"
  },
  "cells": [
    {
      "cell_type": "markdown",
      "metadata": {
        "id": "view-in-github",
        "colab_type": "text"
      },
      "source": [
        "<a href=\"https://colab.research.google.com/github/RamiMohammedSeid/Meda-Lang/blob/master/amtoeng2.ipynb\" target=\"_parent\"><img src=\"https://colab.research.google.com/assets/colab-badge.svg\" alt=\"Open In Colab\"/></a>"
      ]
    },
    {
      "cell_type": "markdown",
      "metadata": {
        "id": "MkweACAgP6cP",
        "colab_type": "text"
      },
      "source": [
        "# **Amharic to enlgish to amharic translation model**"
      ]
    },
    {
      "cell_type": "markdown",
      "metadata": {
        "id": "RmKlaI0xTjFV",
        "colab_type": "text"
      },
      "source": [
        "## Clone necessary Libraries"
      ]
    },
    {
      "cell_type": "code",
      "metadata": {
        "id": "HfOB7XaFN1AR",
        "colab_type": "code",
        "outputId": "41c980a1-6145-4df2-9925-053aae90aca9",
        "colab": {
          "base_uri": "https://localhost:8080/",
          "height": 1000
        }
      },
      "source": [
        "!git clone https://github.com/RamiMohammedSeid/HornMorpho/; cd HornMorpho;cd \"HornMorpho\"; python setup.py install\n",
        "!git clone https://github.com/RamiMohammedSeid/OpenNMT-py; cd OpenNMT-py; pip install -r requirements.opt.txt;python setup.py install\n",
        "!pip install OpenNMT-py\n",
        "!pip install sentencepiece"
      ],
      "execution_count": 0,
      "outputs": [
        {
          "output_type": "stream",
          "text": [
            
            
          ],
          "name": "stdout"
        }
      ]
    },
    {
      "cell_type": "code",
      "metadata": {
        "id": "BJCVGTCUWbR_",
        "colab_type": "code",
        "outputId": "75f68aa3-0cae-4c36-e91e-51bb67bc1965",
        "colab": {
          "base_uri": "https://localhost:8080/",
          "height": 141
        }
      },
      "source": [
        "from google.colab import drive\n",
        "drive.mount('/content/drive',force_remount=True)"
      ],
      "execution_count": 0,
      "outputs": [
        {
          "output_type": "stream",
          "text": [
            "Go to this URL in a browser: https://accounts.google.com/o/oauth2/auth?client_id=947318989803-6bn6qk8qdgf4n4g3pfee6491hc0brc4i.apps.googleusercontent.com&redirect_uri=urn%3aietf%3awg%3aoauth%3a2.0%3aoob&response_type=code&scope=email%20https%3a%2f%2fwww.googleapis.com%2fauth%2fdocs.test%20https%3a%2f%2fwww.googleapis.com%2fauth%2fdrive%20https%3a%2f%2fwww.googleapis.com%2fauth%2fdrive.photos.readonly%20https%3a%2f%2fwww.googleapis.com%2fauth%2fpeopleapi.readonly\n",
            "\n",
            "Enter your authorization code:\n",
            "··········\n",
            "Mounted at /content/drive\n"
          ],
          "name": "stdout"
        }
      ]
    },
    {
      "cell_type": "markdown",
      "metadata": {
        "id": "4fNvIICNXs5e",
        "colab_type": "text"
      },
      "source": [
        "## ***PreProcessing And Importing*** , Place to preprocess all the data"
      ]
    },
    {
      "cell_type": "code",
      "metadata": {
        "id": "fA4h7DzfTnxu",
        "colab_type": "code",
        "outputId": "8cf4ee91-246b-45ee-d637-e778a114288a",
        "colab": {
          "base_uri": "https://localhost:8080/",
          "height": 121
        }
      },
      "source": [
        "import sentencepiece\n",
        "import nltk\n",
        "from tqdm import tqdm\n",
        "import re\n",
        "from nltk.tokenize import sent_tokenize, word_tokenize\n",
        "import l3\n",
        "from codecs import encode, decode\n",
        "from nltk.stem import WordNetLemmatizer\n",
        "nltk.download(\"wordnet\")\n",
        "lemmatizer = WordNetLemmatizer()\n",
        "\n",
        "def punc(sent):\n",
        "\n",
        "  return sent\n",
        "\n",
        "\n",
        "\n",
        "def amtoacii(setntence):\n",
        "  return setntence #l3.phon(\"am\",setntence,gram=True,raw=True,postproc=False,rank=False)[0][0]\n",
        "\n",
        "def normalize_char_level_missmatch(input_token):\n",
        "\n",
        "        rep1=re.sub('[ሃኅኃሐሓኻ]','ሀ',input_token)\n",
        "\n",
        "        rep2=re.sub('[ሑኁዅ]','ሁ',rep1)\n",
        "        rep3=re.sub('[ኂሒኺ]','ሂ',rep2)\n",
        "        rep4=re.sub('[ኌሔዄ]','ሄ',rep3)\n",
        "        rep5=re.sub('[ሕኅ]','ህ',rep4)\n",
        "        rep6=re.sub('[ኆሖኾ]','ሆ',rep5)\n",
        "        rep7=re.sub('[ሠ]','ሰ',rep6)\n",
        "        rep8=re.sub('[ሡ]','ሱ',rep7)\n",
        "        rep9=re.sub('[ሢ]','ሲ',rep8)\n",
        "        rep10=re.sub('[ሣ]','ሳ',rep9)\n",
        "        rep11=re.sub('[ሤ]','ሴ',rep10)\n",
        "        rep12=re.sub('[ሥ]','ስ',rep11)\n",
        "        rep13=re.sub('[ሦ]','ሶ',rep12)\n",
        "        rep14=re.sub('[ዓኣዐ]','አ',rep13)\n",
        "        rep15=re.sub('[ዑ]','ኡ',rep14)\n",
        "        rep16=re.sub('[ዒ]','ኢ',rep15)\n",
        "        rep17=re.sub('[ዔ]','ኤ',rep16)\n",
        "        rep18=re.sub('[ዕ]','እ',rep17)\n",
        "        rep19=re.sub('[ዖ]','ኦ',rep18)\n",
        "        rep20=re.sub('[ጸ]','ፀ',rep19)\n",
        "        rep21=re.sub('[ጹ]','ፁ',rep20)\n",
        "        rep22=re.sub('[ጺ]','ፂ',rep21)\n",
        "        rep23=re.sub('[ጻ]','ፃ',rep22)\n",
        "        rep24=re.sub('[ጼ]','ፄ',rep23)\n",
        "        rep25=re.sub('[ጽ]','ፅ',rep24)\n",
        "        rep26=re.sub('[ጾ]','ፆ',rep25)\n",
        "        rep27=re.sub('(ሉ[ዋአ])','ሏ',rep26)\n",
        "        rep28=re.sub('(ሙ[ዋአ])','ሟ',rep27)\n",
        "        rep29=re.sub('(ቱ[ዋአ])','ቷ',rep28)\n",
        "        rep30=re.sub('(ሩ[ዋአ])','ሯ',rep29)\n",
        "        rep31=re.sub('(ሱ[ዋአ])','ሷ',rep30)\n",
        "        rep32=re.sub('(ሹ[ዋአ])','ሿ',rep31)\n",
        "        rep33=re.sub('(ቁ[ዋአ])','ቋ',rep32)\n",
        "        rep34=re.sub('(ቡ[ዋአ])','ቧ',rep33)\n",
        "        rep35=re.sub('(ቹ[ዋአ])','ቿ',rep34)\n",
        "        rep36=re.sub('(ሁ[ዋአ])','ኋ',rep35)\n",
        "        rep37=re.sub('(ኑ[ዋአ])','ኗ',rep36)\n",
        "        rep38=re.sub('(ኙ[ዋአ])','ኟ',rep37)\n",
        "        rep39=re.sub('(ኩ[ዋአ])','ኳ',rep38)\n",
        "        rep40=re.sub('(ዙ[ዋአ])','ዟ',rep39)\n",
        "        rep41=re.sub('(ጉ[ዋአ])','ጓ',rep40)\n",
        "        rep42=re.sub('(ደ[ዋአ])','ዷ',rep41)\n",
        "        rep43=re.sub('(ጡ[ዋአ])','ጧ',rep42)\n",
        "        rep44=re.sub('(ጩ[ዋአ])','ጯ',rep43)\n",
        "        rep45=re.sub('(ጹ[ዋአ])','ጿ',rep44)\n",
        "        rep46=re.sub('(ፉ[ዋአ])','ፏ',rep45)\n",
        "        rep47=re.sub('[ቊ]','ቁ',rep46)\n",
        "        rep48=re.sub('[ኵ]','ኩ',rep47)\n",
        "\n",
        "        return rep48\n",
        "def startfile(am,en,amt,ent,dirsave=False):\n",
        "\n",
        "  if(dirsave):\n",
        "    fl = open(am.replace(\".txt\",\".proc\")+\".txt\",mode=\"w+\", encoding='utf-8').write(punc(amtoacii(normalize_char_level_missmatch(open(am, encoding='utf-8').read())).strip()))\n",
        "    fk = open(en.replace(\".txt\",\".proc\")+\".txt\",mode=\"w+\", encoding='utf-8').write(punc(open(en, encoding='utf-8').read().strip()))\n",
        "    fld = open(amt.replace(\".txt\",\".proc\")+\".txt\",mode=\"w+\", encoding='utf-8').write(punc(amtoacii(normalize_char_level_missmatch(open(amt, encoding='utf-8').read())).strip()))\n",
        "    fkd = open(ent.replace(\".txt\",\".proc\")+\".txt\",mode=\"w+\", encoding='utf-8').write(punc(open(ent, encoding='utf-8').read().strip()))\n",
        "\n",
        "    return None\n",
        "  amlines = amtoacii(punc(normalize_char_level_missmatch(open(am, encoding='UTF-8').read())).strip()).split('\\n')\n",
        "  enlines = punc(open(en, encoding='UTF-8').read().strip()).split('\\n')\n",
        "  return enlines,amlines\n"
      ],
      "execution_count": 0,
      "outputs": [
        {
          "output_type": "stream",
          "text": [
            "\n",
            ">>>>> This is L3Morpho, version 3.0 <<<<<\n",
            ">>>>>  and HornMorpho, version 2.5  <<<<<\n",
            "[nltk_data] Downloading package wordnet to /root/nltk_data...\n",
            "[nltk_data]   Package wordnet is already up-to-date!\n"
          ],
          "name": "stdout"
        }
      ]
    },
    {
      "cell_type": "markdown",
      "metadata": {
        "id": "Nvi4JvM5pcRw",
        "colab_type": "text"
      },
      "source": [
        "# **Start Machine translation**"
      ]
    },
    {
      "cell_type": "markdown",
      "metadata": {
        "id": "wAt986I8i2rR",
        "colab_type": "text"
      },
      "source": [
        "Create files\n"
      ]
    },
    {
      "cell_type": "code",
      "metadata": {
        "id": "vKiIrdGRi_P8",
        "colab_type": "code",
        "outputId": "a7feb556-db81-4f57-bcb3-ec5a8f62dda7",
        "colab": {
          "base_uri": "https://localhost:8080/",
          "height": 52
        }
      },
      "source": [
        "!ln -s /content/drive/My\\ Drive /content/drv"
      ],
      "execution_count": 0,
      "outputs": [
        {
          "output_type": "stream",
          "text": [
            "ln: failed to create symbolic link '/content/drv/My Drive': Operation not supported\n"
          ],
          "name": "stdout"
        }
      ]
    },
    {
      "cell_type": "code",
      "metadata": {
        "id": "QZ6tr7gqixxB",
        "colab_type": "code",
        "colab": {}
      },
      "source": [
        "startfile(\"/content/drv/am.txt\",\"/content/drv/en.txt\",\"/content/drv/amt.txt\",\"/content/drv/ent.txt\",True)\n",
        "fdict = {\"en\":\"/content/drv/en.proc.txt\",\"am\":\"/content/drv/am.proc.txt\"}\n",
        "tdict = {\"en\":\"/content/drv/ent.proc.txt\",\"am\":\"/content/drv/amt.proc.txt\"}\n",
        "src = \"/content/drv/src.txt\"\n",
        "tgt = \"/content/drv/tgt.txt\"\n",
        "tsrc = \"/content/drv/tsrc.txt\"\n",
        "ttgt = \"/content/drv/ttgt.txt\"\n",
        "bpe = \"/content/drv/bpe\"\n",
        "vocab = \"/content/drv/tmp/amen\"\n",
        "mdl = \"/content/drv/tmp/amen\""
      ],
      "execution_count": 0,
      "outputs": []
    },
    {
      "cell_type": "markdown",
      "metadata": {
        "id": "HY8wool2rpvO",
        "colab_type": "text"
      },
      "source": [
        "#### Apply Byte-Pair Encoding..."
      ]
    },
    {
      "cell_type": "markdown",
      "metadata": {
        "id": "V3TNk9wuqcD7",
        "colab_type": "text"
      },
      "source": [
        "Byte Pair Encoding Model (Creation),, Ignore if already done this part"
      ]
    },
    {
      "cell_type": "markdown",
      "metadata": {
        "id": "M7m2MgRDvX-c",
        "colab_type": "text"
      },
      "source": [
        "Apply to all texts"
      ]
    },
    {
      "cell_type": "markdown",
      "metadata": {
        "id": "NherVg_ti70U",
        "colab_type": "text"
      },
      "source": [
        "Merge model to create a Bilingual dataset"
      ]
    },
    {
      "cell_type": "code",
      "metadata": {
        "id": "-QZxlvU4CVNd",
        "colab_type": "code",
        "outputId": "81531f43-3f5a-405c-dc23-b18c68a94304",
        "colab": {
          "base_uri": "https://localhost:8080/",
          "height": 121
        }
      },
      "source": [
        "\n",
        "tflout=\"\"\n",
        "ttlout=\"\"\n",
        "\n",
        "def go(sample):\n",
        "  return decode(encode(sample, 'latin-1', 'backslashreplace'), 'unicode-escape')\n",
        "lines = {}\n",
        "for fn, ff in tdict.items():\n",
        "  try:\n",
        "    lines[fn].append(open(ff,mode=\"r\",encoding=\"utf-8\").readlines())\n",
        "\n",
        "  except:\n",
        "    lines[fn]= open(ff,mode=\"r\",encoding=\"utf-8\").readlines()\n",
        "    \n",
        "for id,toks in lines.items():\n",
        "  b = 0\n",
        "  for i in tqdm(toks):\n",
        "    for nid,ntoks in lines.items():\n",
        "      if(nid != id):\n",
        "        try:\n",
        "          tflout += (\"<2%s> %s\\n\" % (nid,(i).replace(\"\\n\",\"\")))\n",
        "          ttlout += (\"%s\\n\" % ((lines[nid][b]).replace(\"\\n\",\"\")))\n",
        "        except:\n",
        "          guid = \"00-11-22\"  \n",
        "    b += 1  \n",
        "\n",
        "ptflout = \"\\n\".join((go(tflout).split(\"\\n\")[:-1]))\n",
        "pttlout = \"\\n\".join(go(ttlout).split(\"\\n\")[:-1])\n",
        "open(tsrc.replace(\"\\\\\",\"\"),mode=\"w\",encoding =\"utf-8\").write(ptflout)\n",
        "open(ttgt.replace(\"\\\\\",\"\"),mode=\"w\",encoding =\"utf-8\").write(pttlout)\n",
        "\n",
        "tflout=\"\"\n",
        "ttlout=\"\"\n",
        "\n",
        "def go(sample):\n",
        "  return decode(encode(sample, 'latin-1', 'backslashreplace'), 'unicode-escape')\n",
        "lines = {}\n",
        "for fn, ff in fdict.items():\n",
        "  try:\n",
        "    lines[fn].append(open(ff,mode=\"r\",encoding=\"utf-8\").readlines())\n",
        "\n",
        "  except:\n",
        "    lines[fn]= open(ff,mode=\"r\",encoding=\"utf-8\").readlines() \n",
        "    \n",
        "for id,toks in lines.items():\n",
        "  b = 0\n",
        "  for i in tqdm(toks,desc=\"Wait please..\"):\n",
        "    for nid,ntoks in lines.items():\n",
        "      if(nid != id):\n",
        "        tflout += (\"<2%s> %s\\n\" % (nid,(i).replace(\"\\n\",\"\")))\n",
        "        ttlout += (\"%s\\n\" % ((lines[nid][b]).replace(\"\\n\",\"\")))\n",
        "    b += 1  \n",
        "\n",
        "ptflout = \"\\n\".join((go(tflout).split(\"\\n\")[:-1]))\n",
        "pttlout = \"\\n\".join(go(ttlout).split(\"\\n\")[:-1])\n",
        "open(src.replace(\"\\\\\",\"\"),mode=\"w\",encoding =\"utf-8\").write(ptflout)\n",
        "open(tgt.replace(\"\\\\\",\"\"),mode=\"w\",encoding =\"utf-8\").write(pttlout)"
      ],
      "execution_count": 0,
      "outputs": [
        {
          "output_type": "stream",
          "text": [
            "100%|██████████| 5364/5364 [00:00<00:00, 156133.73it/s]\n",
            "100%|██████████| 5364/5364 [00:00<00:00, 357762.41it/s]\n",
            "Wait please..: 100%|██████████| 202572/202572 [00:00<00:00, 377501.95it/s]\n",
            "Wait please..: 100%|██████████| 202572/202572 [00:00<00:00, 369107.34it/s]\n"
          ],
          "name": "stderr"
        },
        {
          "output_type": "execute_result",
          "data": {
            "text/plain": [
              "34454934"
            ]
          },
          "metadata": {
            "tags": []
          },
          "execution_count": 80
        }
      ]
    },
    {
      "cell_type": "code",
      "metadata": {
        "id": "vvcU2nnihIyx",
        "colab_type": "code",
        "colab": {}
      },
      "source": [
        "def create(srct,loc):\n",
        "  sentencepiece.SentencePieceTrainer.Train(\"--input=\"+srct+\" --model_prefix=\"+loc+\" --vocab_size=70000 --character_coverage=1.0 --model_type=unigram\")\n",
        "import pyonmttok\n",
        "def tokenize(file,outp,bpe):\n",
        "  tokenizer = pyonmttok.Tokenizer(\"aggressive\", sp_model_path=bpe, joiner_annotate=True, segment_numbers=True)\n",
        "  tokenizer.tokenize_file(file, outp)"
      ],
      "execution_count": 0,
      "outputs": []
    },
    {
      "cell_type": "markdown",
      "metadata": {
        "id": "zs7pSOTshN8f",
        "colab_type": "text"
      },
      "source": [
        "Make model"
      ]
    },
    {
      "cell_type": "code",
      "metadata": {
        "id": "Mjdpj_HwhNfA",
        "colab_type": "code",
        "colab": {}
      },
      "source": [
        "create(src,bpe.replace(\"\\\\\",\"\"))"
      ],
      "execution_count": 0,
      "outputs": []
    },
    {
      "cell_type": "markdown",
      "metadata": {
        "id": "mNtIlAwcicWP",
        "colab_type": "text"
      },
      "source": [
        "Change files"
      ]
    },
    {
      "cell_type": "code",
      "metadata": {
        "id": "--XXbytyifMb",
        "colab_type": "code",
        "colab": {}
      },
      "source": [
        "inps = [src,tsrc,tgt,ttgt]\n",
        "src = src+\".tok\"\n",
        "tsrc = tsrc+\".tok\"\n",
        "tgt = tgt+\".tok\"\n",
        "ttgt = ttgt+\".tok\"\n",
        "ous = [src,tsrc,tgt,ttgt]"
      ],
      "execution_count": 0,
      "outputs": []
    },
    {
      "cell_type": "code",
      "metadata": {
        "id": "hRuyYoKbi2vz",
        "colab_type": "code",
        "colab": {}
      },
      "source": [
        "i = 0\n",
        "for isd in inps:\n",
        "  tokenize(isd,ous[i],bpe.replace(\"\\\\\",\"\")+\".model\")\n",
        "  i+=1"
      ],
      "execution_count": 0,
      "outputs": []
    },
    {
      "cell_type": "code",
      "metadata": {
        "id": "voblI3shZx_E",
        "colab_type": "code",
        "colab": {}
      },
      "source": [
        "for isd in ous:\n",
        "  jc = open(isd,mode=\"r+\",encoding=\"utf-8\")\n",
        "  jm = jc.read()\n",
        "  jm = jm.replace(\"<￭ 2￭ am ￭>\",\"<2am>\")\n",
        "  jm = jm.replace(\"<￭ 2￭ en ￭>\",\"<2en>\")\n",
        "  jc.close()\n",
        "  open(isd,mode=\"w\",encoding=\"utf-8\").write(jm)"
      ],
      "execution_count": 0,
      "outputs": []
    },
    {
      "cell_type": "markdown",
      "metadata": {
        "id": "GfyiDZjGphwv",
        "colab_type": "text"
      },
      "source": [
        "## **Amharic to English to Amharic**"
      ]
    },
    {
      "cell_type": "markdown",
      "metadata": {
        "id": "YHs4-R0WroxP",
        "colab_type": "text"
      },
      "source": [
        "### **Create Model** , Amharic to **English* to Amharic*"
      ]
    },
    {
      "cell_type": "code",
      "metadata": {
        "id": "b2UxrRnGpgs8",
        "colab_type": "code",
        "outputId": "a44f6dab-c4f5-43ad-eefb-1d52c977775b",
        "colab": {
          "base_uri": "https://localhost:8080/",
          "height": 312
        }
      },
      "source": [
        "!python OpenNMT-py/preprocess.py -overwrite --train_src $src --train_tgt $tgt  --valid_src $tsrc  --valid_tgt $ttgt  --save_data $vocab \n",
        "##Then Train the model"
      ],
      "execution_count": 0,
      "outputs": [
        {
          "output_type": "stream",
          "text": [
            "[2019-12-29 19:46:58,356 INFO] Extracting features...\n",
            "[2019-12-29 19:46:58,366 INFO]  * number of source features: 0.\n",
            "[2019-12-29 19:46:58,366 INFO]  * number of target features: 0.\n",
            "[2019-12-29 19:46:58,366 INFO] Building `Fields` object...\n",
            "[2019-12-29 19:46:58,366 INFO] Building & saving training data...\n",
            "[2019-12-29 19:46:58,367 WARNING] Shards for corpus train already exist, will be overwritten because `-overwrite` option is set.\n",
            "[2019-12-29 19:46:58,373 WARNING] Overwrite shards for corpus None\n",
            "[2019-12-29 19:46:59,373 INFO] Building shard 0.\n",
            "[2019-12-29 19:47:14,080 INFO]  * saving 0th train data shard to /content/drv/tmp/amen.train.0.pt.\n",
            "[2019-12-29 19:47:28,908 INFO]  * tgt vocab size: 50004.\n",
            "[2019-12-29 19:47:29,327 INFO]  * src vocab size: 50002.\n",
            "[2019-12-29 19:47:30,231 INFO] Building & saving validation data...\n",
            "[2019-12-29 19:47:30,232 WARNING] Shards for corpus valid already exist, will be overwritten because `-overwrite` option is set.\n",
            "[2019-12-29 19:47:30,248 WARNING] Overwrite shards for corpus None\n",
            "[2019-12-29 19:47:30,953 INFO] Building shard 0.\n",
            "[2019-12-29 19:47:31,159 INFO]  * saving 0th valid data shard to /content/drv/tmp/amen.valid.0.pt.\n"
          ],
          "name": "stdout"
        }
      ]
    },
    {
      "cell_type": "code",
      "metadata": {
        "id": "j164R5f2n4VP",
        "colab_type": "code",
        "outputId": "57edcf97-09d7-44a8-baa0-a434834bc488",
        "colab": {
          "base_uri": "https://localhost:8080/",
          "height": 1000
        }
      },
      "source": [
        "!python OpenNMT-py/train.py -save_model $mdl -data $vocab \\\n",
        "        -word_vec_size 90  -encoder_type brnn -position_encoding \\\n",
        "        -train_steps 200000  -dropout 0.05 \\\n",
        "        -world_size 1 -gpu_ranks 0 \n",
        "        \n",
        "        "
      ],
      "execution_count": 0,
      "outputs": [
        {
          "output_type": "stream",
          "text": [
            "[2019-12-29 19:47:51,842 INFO]  * src vocab size = 50002\n",
            "[2019-12-29 19:47:51,842 INFO]  * tgt vocab size = 50004\n",
            "[2019-12-29 19:47:51,843 INFO] Building model...\n",
            "[2019-12-29 19:47:55,194 INFO] NMTModel(\n",
            "  (encoder): RNNEncoder(\n",
            "    (embeddings): Embeddings(\n",
            "      (make_embedding): Sequential(\n",
            "        (emb_luts): Elementwise(\n",
            "          (0): Embedding(50002, 90, padding_idx=1)\n",
            "        )\n",
            "        (pe): PositionalEncoding(\n",
            "          (dropout): Dropout(p=0.05, inplace=False)\n",
            "        )\n",
            "      )\n",
            "    )\n",
            "    (rnn): LSTM(90, 250, num_layers=2, dropout=0.05, bidirectional=True)\n",
            "  )\n",
            "  (decoder): InputFeedRNNDecoder(\n",
            "    (embeddings): Embeddings(\n",
            "      (make_embedding): Sequential(\n",
            "        (emb_luts): Elementwise(\n",
            "          (0): Embedding(50004, 90, padding_idx=1)\n",
            "        )\n",
            "        (pe): PositionalEncoding(\n",
            "          (dropout): Dropout(p=0.05, inplace=False)\n",
            "        )\n",
            "      )\n",
            "    )\n",
            "    (dropout): Dropout(p=0.05, inplace=False)\n",
            "    (rnn): StackedLSTM(\n",
            "      (dropout): Dropout(p=0.05, inplace=False)\n",
            "      (layers): ModuleList(\n",
            "        (0): LSTMCell(590, 500)\n",
            "        (1): LSTMCell(500, 500)\n",
            "      )\n",
            "    )\n",
            "    (attn): GlobalAttention(\n",
            "      (linear_in): Linear(in_features=500, out_features=500, bias=False)\n",
            "      (linear_out): Linear(in_features=1000, out_features=500, bias=False)\n",
            "    )\n",
            "  )\n",
            "  (generator): Sequential(\n",
            "    (0): Linear(in_features=500, out_features=50004, bias=True)\n",
            "    (1): Cast()\n",
            "    (2): LogSoftmax()\n",
            "  )\n",
            ")\n",
            "[2019-12-29 19:47:55,194 INFO] encoder: 6688180\n",
            "[2019-12-29 19:47:55,194 INFO] decoder: 34490364\n",
            "[2019-12-29 19:47:55,194 INFO] * number of parameters: 41178544\n",
            "[2019-12-29 19:47:55,197 INFO] Starting training on GPU: [0]\n",
            "[2019-12-29 19:47:55,197 INFO] Start training loop and validate every 10000 steps...\n",
            "[2019-12-29 19:47:55,198 INFO] Loading dataset from /content/drv/tmp/amen.train.0.pt\n",
            "[2019-12-29 19:48:01,066 INFO] number of examples: 395576\n",
            "[2019-12-29 19:48:06,708 INFO] Step 50/200000; acc:   4.34; ppl: 3740662.60; xent: 15.13; lr: 1.00000; 4724/5067 tok/s;     12 sec\n",
            "[2019-12-29 19:48:10,628 INFO] Step 100/200000; acc:   6.84; ppl: 88076.42; xent: 11.39; lr: 1.00000; 14906/15206 tok/s;     15 sec\n",
            "[2019-12-29 19:48:14,300 INFO] Step 150/200000; acc:   7.55; ppl: 11563.92; xent: 9.36; lr: 1.00000; 15565/14618 tok/s;     19 sec\n",
            "[2019-12-29 19:48:18,025 INFO] Step 200/200000; acc:   8.08; ppl: 5997.35; xent: 8.70; lr: 1.00000; 15669/15005 tok/s;     23 sec\n",
            "[2019-12-29 19:48:21,353 INFO] Step 250/200000; acc:  10.12; ppl: 2520.60; xent: 7.83; lr: 1.00000; 14772/14745 tok/s;     26 sec\n",
            "[2019-12-29 19:48:24,897 INFO] Step 300/200000; acc:  11.05; ppl: 1981.24; xent: 7.59; lr: 1.00000; 14879/14649 tok/s;     30 sec\n",
            "[2019-12-29 19:48:28,696 INFO] Step 350/200000; acc:  11.73; ppl: 1969.05; xent: 7.59; lr: 1.00000; 15919/14808 tok/s;     33 sec\n",
            "[2019-12-29 19:48:32,098 INFO] Step 400/200000; acc:  14.84; ppl: 1566.54; xent: 7.36; lr: 1.00000; 15973/14348 tok/s;     37 sec\n",
            "[2019-12-29 19:48:35,357 INFO] Step 450/200000; acc:  14.36; ppl: 1332.12; xent: 7.19; lr: 1.00000; 14883/14406 tok/s;     40 sec\n",
            "[2019-12-29 19:48:38,921 INFO] Step 500/200000; acc:  14.76; ppl: 1005.60; xent: 6.91; lr: 1.00000; 14905/14831 tok/s;     44 sec\n",
            "[2019-12-29 19:48:42,855 INFO] Step 550/200000; acc:  14.56; ppl: 1197.85; xent: 7.09; lr: 1.00000; 14661/15110 tok/s;     48 sec\n",
            "[2019-12-29 19:48:46,240 INFO] Step 600/200000; acc:  16.55; ppl: 843.85; xent: 6.74; lr: 1.00000; 15086/14551 tok/s;     51 sec\n",
            "[2019-12-29 19:48:49,832 INFO] Step 650/200000; acc:  16.45; ppl: 731.30; xent: 6.59; lr: 1.00000; 14907/14514 tok/s;     55 sec\n",
            "[2019-12-29 19:48:53,262 INFO] Step 700/200000; acc:  17.49; ppl: 723.76; xent: 6.58; lr: 1.00000; 14801/14105 tok/s;     58 sec\n",
            "[2019-12-29 19:48:57,053 INFO] Step 750/200000; acc:  16.95; ppl: 594.35; xent: 6.39; lr: 1.00000; 14198/15247 tok/s;     62 sec\n",
            "[2019-12-29 19:49:00,827 INFO] Step 800/200000; acc:  17.22; ppl: 697.26; xent: 6.55; lr: 1.00000; 15168/14590 tok/s;     66 sec\n",
            "[2019-12-29 19:49:04,700 INFO] Step 850/200000; acc:  17.15; ppl: 697.22; xent: 6.55; lr: 1.00000; 15085/14980 tok/s;     70 sec\n",
            "[2019-12-29 19:49:08,360 INFO] Step 900/200000; acc:  18.33; ppl: 643.76; xent: 6.47; lr: 1.00000; 15246/14449 tok/s;     73 sec\n",
            "[2019-12-29 19:49:12,107 INFO] Step 950/200000; acc:  18.72; ppl: 585.61; xent: 6.37; lr: 1.00000; 14966/14956 tok/s;     77 sec\n",
            "[2019-12-29 19:49:15,734 INFO] Step 1000/200000; acc:  19.12; ppl: 486.88; xent: 6.19; lr: 1.00000; 14220/14967 tok/s;     81 sec\n",
            "[2019-12-29 19:49:19,469 INFO] Step 1050/200000; acc:  19.15; ppl: 537.89; xent: 6.29; lr: 1.00000; 15459/14848 tok/s;     84 sec\n",
            "[2019-12-29 19:49:23,160 INFO] Step 1100/200000; acc:  19.65; ppl: 525.33; xent: 6.26; lr: 1.00000; 15935/14749 tok/s;     88 sec\n",
            "[2019-12-29 19:49:26,835 INFO] Step 1150/200000; acc:  19.18; ppl: 466.01; xent: 6.14; lr: 1.00000; 14612/15147 tok/s;     92 sec\n",
            "[2019-12-29 19:49:30,785 INFO] Step 1200/200000; acc:  19.01; ppl: 488.93; xent: 6.19; lr: 1.00000; 14523/15105 tok/s;     96 sec\n",
            "[2019-12-29 19:49:34,383 INFO] Step 1250/200000; acc:  19.91; ppl: 474.08; xent: 6.16; lr: 1.00000; 14716/14578 tok/s;     99 sec\n",
            "[2019-12-29 19:49:38,370 INFO] Step 1300/200000; acc:  20.64; ppl: 349.57; xent: 5.86; lr: 1.00000; 14478/15273 tok/s;    103 sec\n",
            "[2019-12-29 19:49:41,908 INFO] Step 1350/200000; acc:  21.84; ppl: 405.91; xent: 6.01; lr: 1.00000; 15269/14897 tok/s;    107 sec\n",
            "[2019-12-29 19:49:45,512 INFO] Step 1400/200000; acc:  21.15; ppl: 453.18; xent: 6.12; lr: 1.00000; 15344/14816 tok/s;    110 sec\n",
            "[2019-12-29 19:49:49,427 INFO] Step 1450/200000; acc:  21.52; ppl: 388.80; xent: 5.96; lr: 1.00000; 15302/15149 tok/s;    114 sec\n",
            "[2019-12-29 19:49:52,832 INFO] Step 1500/200000; acc:  23.32; ppl: 466.39; xent: 6.15; lr: 1.00000; 16821/14179 tok/s;    118 sec\n",
            "[2019-12-29 19:49:56,632 INFO] Step 1550/200000; acc:  22.15; ppl: 358.98; xent: 5.88; lr: 1.00000; 14687/14745 tok/s;    121 sec\n",
            "[2019-12-29 19:50:00,857 INFO] Step 1600/200000; acc:  21.74; ppl: 328.65; xent: 5.80; lr: 1.00000; 14002/14498 tok/s;    126 sec\n",
            "[2019-12-29 19:50:04,425 INFO] Step 1650/200000; acc:  22.71; ppl: 267.20; xent: 5.59; lr: 1.00000; 13971/15006 tok/s;    129 sec\n",
            "[2019-12-29 19:50:08,184 INFO] Step 1700/200000; acc:  23.14; ppl: 324.84; xent: 5.78; lr: 1.00000; 15245/14938 tok/s;    133 sec\n",
            "[2019-12-29 19:50:11,921 INFO] Step 1750/200000; acc:  23.20; ppl: 328.89; xent: 5.80; lr: 1.00000; 14915/14500 tok/s;    137 sec\n",
            "[2019-12-29 19:50:15,943 INFO] Step 1800/200000; acc:  21.51; ppl: 283.13; xent: 5.65; lr: 1.00000; 13893/15327 tok/s;    141 sec\n",
            "[2019-12-29 19:50:19,718 INFO] Step 1850/200000; acc:  23.39; ppl: 242.41; xent: 5.49; lr: 1.00000; 13580/15303 tok/s;    145 sec\n",
            "[2019-12-29 19:50:23,101 INFO] Step 1900/200000; acc:  24.29; ppl: 313.36; xent: 5.75; lr: 1.00000; 14877/14208 tok/s;    148 sec\n",
            "[2019-12-29 19:50:26,484 INFO] Step 1950/200000; acc:  25.01; ppl: 260.47; xent: 5.56; lr: 1.00000; 14493/14767 tok/s;    151 sec\n",
            "[2019-12-29 19:50:30,314 INFO] Step 2000/200000; acc:  23.81; ppl: 266.25; xent: 5.58; lr: 1.00000; 14117/14826 tok/s;    155 sec\n",
            "[2019-12-29 19:50:34,181 INFO] Step 2050/200000; acc:  24.67; ppl: 315.44; xent: 5.75; lr: 1.00000; 15620/14618 tok/s;    159 sec\n",
            "[2019-12-29 19:50:37,886 INFO] Step 2100/200000; acc:  23.78; ppl: 249.49; xent: 5.52; lr: 1.00000; 14356/15188 tok/s;    163 sec\n",
            "[2019-12-29 19:50:41,519 INFO] Step 2150/200000; acc:  25.34; ppl: 235.64; xent: 5.46; lr: 1.00000; 14782/14895 tok/s;    166 sec\n",
            "[2019-12-29 19:50:45,282 INFO] Step 2200/200000; acc:  24.00; ppl: 287.13; xent: 5.66; lr: 1.00000; 15528/15149 tok/s;    170 sec\n",
            "[2019-12-29 19:50:49,025 INFO] Step 2250/200000; acc:  24.56; ppl: 198.43; xent: 5.29; lr: 1.00000; 13492/15155 tok/s;    174 sec\n",
            "[2019-12-29 19:50:52,907 INFO] Step 2300/200000; acc:  24.23; ppl: 251.54; xent: 5.53; lr: 1.00000; 14771/15137 tok/s;    178 sec\n",
            "[2019-12-29 19:50:56,435 INFO] Step 2350/200000; acc:  26.27; ppl: 259.91; xent: 5.56; lr: 1.00000; 15518/14401 tok/s;    181 sec\n",
            "[2019-12-29 19:51:00,039 INFO] Step 2400/200000; acc:  24.86; ppl: 185.84; xent: 5.22; lr: 1.00000; 13180/15299 tok/s;    185 sec\n",
            "[2019-12-29 19:51:03,371 INFO] Step 2450/200000; acc:  27.29; ppl: 194.19; xent: 5.27; lr: 1.00000; 14499/14990 tok/s;    188 sec\n",
            "[2019-12-29 19:51:07,424 INFO] Step 2500/200000; acc:  24.51; ppl: 241.67; xent: 5.49; lr: 1.00000; 14500/15122 tok/s;    192 sec\n",
            "[2019-12-29 19:51:10,876 INFO] Step 2550/200000; acc:  27.20; ppl: 193.13; xent: 5.26; lr: 1.00000; 14737/14812 tok/s;    196 sec\n",
            "[2019-12-29 19:51:15,108 INFO] Step 2600/200000; acc:  24.84; ppl: 207.99; xent: 5.34; lr: 1.00000; 14505/15187 tok/s;    200 sec\n",
            "[2019-12-29 19:51:19,013 INFO] Step 2650/200000; acc:  25.79; ppl: 222.01; xent: 5.40; lr: 1.00000; 15274/15144 tok/s;    204 sec\n",
            "[2019-12-29 19:51:22,750 INFO] Step 2700/200000; acc:  26.21; ppl: 182.71; xent: 5.21; lr: 1.00000; 13942/15258 tok/s;    208 sec\n",
            "[2019-12-29 19:51:26,542 INFO] Step 2750/200000; acc:  26.00; ppl: 219.38; xent: 5.39; lr: 1.00000; 14957/14778 tok/s;    211 sec\n",
            "[2019-12-29 19:51:30,503 INFO] Step 2800/200000; acc:  26.16; ppl: 239.11; xent: 5.48; lr: 1.00000; 15337/14583 tok/s;    215 sec\n",
            "[2019-12-29 19:51:34,465 INFO] Step 2850/200000; acc:  25.26; ppl: 221.47; xent: 5.40; lr: 1.00000; 14779/15199 tok/s;    219 sec\n",
            "[2019-12-29 19:51:37,692 INFO] Step 2900/200000; acc:  29.02; ppl: 185.98; xent: 5.23; lr: 1.00000; 15430/14430 tok/s;    222 sec\n",
            "[2019-12-29 19:51:41,549 INFO] Step 2950/200000; acc:  26.86; ppl: 211.58; xent: 5.35; lr: 1.00000; 15584/15086 tok/s;    226 sec\n",
            "[2019-12-29 19:51:45,218 INFO] Step 3000/200000; acc:  27.99; ppl: 199.44; xent: 5.30; lr: 1.00000; 15265/14719 tok/s;    230 sec\n",
            "[2019-12-29 19:51:48,840 INFO] Step 3050/200000; acc:  27.81; ppl: 174.85; xent: 5.16; lr: 1.00000; 14467/14468 tok/s;    234 sec\n",
            "[2019-12-29 19:51:52,695 INFO] Step 3100/200000; acc:  26.84; ppl: 185.96; xent: 5.23; lr: 1.00000; 15073/15303 tok/s;    237 sec\n",
            "[2019-12-29 19:51:56,326 INFO] Step 3150/200000; acc:  27.83; ppl: 198.83; xent: 5.29; lr: 1.00000; 15792/14129 tok/s;    241 sec\n",
            "[2019-12-29 19:51:59,943 INFO] Step 3200/200000; acc:  27.87; ppl: 162.90; xent: 5.09; lr: 1.00000; 14404/15087 tok/s;    245 sec\n",
            "[2019-12-29 19:52:03,651 INFO] Step 3250/200000; acc:  28.09; ppl: 155.70; xent: 5.05; lr: 1.00000; 13997/15230 tok/s;    248 sec\n",
            "[2019-12-29 19:52:07,619 INFO] Step 3300/200000; acc:  27.11; ppl: 191.67; xent: 5.26; lr: 1.00000; 15113/15177 tok/s;    252 sec\n",
            "[2019-12-29 19:52:11,078 INFO] Step 3350/200000; acc:  28.10; ppl: 158.94; xent: 5.07; lr: 1.00000; 14117/15127 tok/s;    256 sec\n",
            "[2019-12-29 19:52:14,873 INFO] Step 3400/200000; acc:  27.86; ppl: 175.54; xent: 5.17; lr: 1.00000; 14033/14130 tok/s;    260 sec\n",
            "[2019-12-29 19:52:18,936 INFO] Step 3450/200000; acc:  27.48; ppl: 175.53; xent: 5.17; lr: 1.00000; 15234/15353 tok/s;    264 sec\n",
            "[2019-12-29 19:52:22,547 INFO] Step 3500/200000; acc:  28.38; ppl: 182.49; xent: 5.21; lr: 1.00000; 15969/14697 tok/s;    267 sec\n",
            "[2019-12-29 19:52:26,223 INFO] Step 3550/200000; acc:  28.27; ppl: 158.83; xent: 5.07; lr: 1.00000; 15097/15028 tok/s;    271 sec\n",
            "[2019-12-29 19:52:30,561 INFO] Step 3600/200000; acc:  27.01; ppl: 157.09; xent: 5.06; lr: 1.00000; 13974/15508 tok/s;    275 sec\n",
            "[2019-12-29 19:52:34,304 INFO] Step 3650/200000; acc:  28.45; ppl: 137.00; xent: 4.92; lr: 1.00000; 14177/15086 tok/s;    279 sec\n",
            "[2019-12-29 19:52:38,076 INFO] Step 3700/200000; acc:  28.09; ppl: 151.62; xent: 5.02; lr: 1.00000; 14830/14990 tok/s;    283 sec\n",
            "[2019-12-29 19:52:41,568 INFO] Step 3750/200000; acc:  30.20; ppl: 146.34; xent: 4.99; lr: 1.00000; 15023/14237 tok/s;    286 sec\n",
            "[2019-12-29 19:52:45,140 INFO] Step 3800/200000; acc:  30.56; ppl: 116.75; xent: 4.76; lr: 1.00000; 13778/14781 tok/s;    290 sec\n",
            "[2019-12-29 19:52:48,957 INFO] Step 3850/200000; acc:  28.73; ppl: 139.93; xent: 4.94; lr: 1.00000; 14015/14597 tok/s;    294 sec\n",
            "[2019-12-29 19:52:52,288 INFO] Step 3900/200000; acc:  30.79; ppl: 140.28; xent: 4.94; lr: 1.00000; 15219/14635 tok/s;    297 sec\n",
            "[2019-12-29 19:52:56,430 INFO] Step 3950/200000; acc:  28.44; ppl: 162.56; xent: 5.09; lr: 1.00000; 15335/14503 tok/s;    301 sec\n",
            "[2019-12-29 19:53:00,052 INFO] Step 4000/200000; acc:  29.70; ppl: 114.22; xent: 4.74; lr: 1.00000; 13430/15067 tok/s;    305 sec\n",
            "[2019-12-29 19:53:03,591 INFO] Step 4050/200000; acc:  29.33; ppl: 147.31; xent: 4.99; lr: 1.00000; 15426/14829 tok/s;    308 sec\n",
            "[2019-12-29 19:53:07,024 INFO] Step 4100/200000; acc:  29.60; ppl: 153.12; xent: 5.03; lr: 1.00000; 15491/14782 tok/s;    312 sec\n",
            "[2019-12-29 19:53:10,422 INFO] Step 4150/200000; acc:  30.66; ppl: 142.97; xent: 4.96; lr: 1.00000; 15654/14419 tok/s;    315 sec\n",
            "[2019-12-29 19:53:14,532 INFO] Step 4200/200000; acc:  27.75; ppl: 161.70; xent: 5.09; lr: 1.00000; 14717/14733 tok/s;    319 sec\n",
            "[2019-12-29 19:53:17,973 INFO] Step 4250/200000; acc:  30.19; ppl: 149.19; xent: 5.01; lr: 1.00000; 15717/14851 tok/s;    323 sec\n",
            "[2019-12-29 19:53:21,312 INFO] Step 4300/200000; acc:  31.35; ppl: 111.02; xent: 4.71; lr: 1.00000; 14011/14648 tok/s;    326 sec\n",
            "[2019-12-29 19:53:24,957 INFO] Step 4350/200000; acc:  30.63; ppl: 113.62; xent: 4.73; lr: 1.00000; 13710/14410 tok/s;    330 sec\n",
            "[2019-12-29 19:53:28,260 INFO] Step 4400/200000; acc:  30.90; ppl: 110.06; xent: 4.70; lr: 1.00000; 14070/14677 tok/s;    333 sec\n",
            "[2019-12-29 19:53:31,831 INFO] Step 4450/200000; acc:  30.68; ppl: 125.80; xent: 4.83; lr: 1.00000; 14909/14738 tok/s;    337 sec\n",
            "[2019-12-29 19:53:35,440 INFO] Step 4500/200000; acc:  29.97; ppl: 142.90; xent: 4.96; lr: 1.00000; 14765/14541 tok/s;    340 sec\n",
            "[2019-12-29 19:53:38,759 INFO] Step 4550/200000; acc:  32.72; ppl: 97.37; xent: 4.58; lr: 1.00000; 14324/14692 tok/s;    344 sec\n",
            "[2019-12-29 19:53:42,195 INFO] Step 4600/200000; acc:  31.35; ppl: 128.12; xent: 4.85; lr: 1.00000; 15407/14537 tok/s;    347 sec\n",
            "[2019-12-29 19:53:46,641 INFO] Step 4650/200000; acc:  27.69; ppl: 128.96; xent: 4.86; lr: 1.00000; 13747/15462 tok/s;    351 sec\n",
            "[2019-12-29 19:53:50,423 INFO] Step 4700/200000; acc:  30.83; ppl: 116.33; xent: 4.76; lr: 1.00000; 13370/14116 tok/s;    355 sec\n",
            "[2019-12-29 19:53:53,776 INFO] Step 4750/200000; acc:  32.50; ppl: 102.22; xent: 4.63; lr: 1.00000; 14812/14708 tok/s;    359 sec\n",
            "[2019-12-29 19:53:57,227 INFO] Step 4800/200000; acc:  31.64; ppl: 126.31; xent: 4.84; lr: 1.00000; 15859/14463 tok/s;    362 sec\n",
            "[2019-12-29 19:54:00,752 INFO] Step 4850/200000; acc:  30.79; ppl: 121.23; xent: 4.80; lr: 1.00000; 15106/14927 tok/s;    366 sec\n",
            "[2019-12-29 19:54:04,549 INFO] Step 4900/200000; acc:  30.18; ppl: 111.59; xent: 4.71; lr: 1.00000; 13915/14900 tok/s;    369 sec\n",
            "[2019-12-29 19:54:07,954 INFO] Step 4950/200000; acc:  32.60; ppl: 104.37; xent: 4.65; lr: 1.00000; 14434/14678 tok/s;    373 sec\n",
            "[2019-12-29 19:54:11,595 INFO] Step 5000/200000; acc:  31.90; ppl: 95.50; xent: 4.56; lr: 1.00000; 14062/14823 tok/s;    376 sec\n",
            "[2019-12-29 19:54:13,582 INFO] Saving checkpoint /content/drv/tmp/amen_step_5000.pt\n",
            "[2019-12-29 19:54:18,847 INFO] Step 5050/200000; acc:  30.50; ppl: 119.32; xent: 4.78; lr: 1.00000; 8137/8135 tok/s;    384 sec\n",
            "[2019-12-29 19:54:22,523 INFO] Step 5100/200000; acc:  31.77; ppl: 108.62; xent: 4.69; lr: 1.00000; 15183/14977 tok/s;    387 sec\n",
            "[2019-12-29 19:54:26,239 INFO] Step 5150/200000; acc:  32.31; ppl: 105.37; xent: 4.66; lr: 1.00000; 14508/14350 tok/s;    391 sec\n",
            "[2019-12-29 19:54:29,629 INFO] Step 5200/200000; acc:  32.33; ppl: 127.59; xent: 4.85; lr: 1.00000; 16879/14460 tok/s;    394 sec\n",
            "[2019-12-29 19:54:33,231 INFO] Step 5250/200000; acc:  31.79; ppl: 98.11; xent: 4.59; lr: 1.00000; 14474/14518 tok/s;    398 sec\n",
            "[2019-12-29 19:54:37,266 INFO] Step 5300/200000; acc:  30.91; ppl: 104.54; xent: 4.65; lr: 1.00000; 14403/14862 tok/s;    402 sec\n",
            "[2019-12-29 19:54:40,822 INFO] Step 5350/200000; acc:  32.51; ppl: 93.10; xent: 4.53; lr: 1.00000; 14507/14758 tok/s;    406 sec\n",
            "[2019-12-29 19:54:44,646 INFO] Step 5400/200000; acc:  31.03; ppl: 100.24; xent: 4.61; lr: 1.00000; 14527/15043 tok/s;    409 sec\n",
            "[2019-12-29 19:54:48,122 INFO] Step 5450/200000; acc:  32.59; ppl: 97.60; xent: 4.58; lr: 1.00000; 14203/14409 tok/s;    413 sec\n",
            "[2019-12-29 19:54:51,558 INFO] Step 5500/200000; acc:  32.63; ppl: 88.58; xent: 4.48; lr: 1.00000; 13523/14844 tok/s;    416 sec\n",
            "[2019-12-29 19:54:55,127 INFO] Step 5550/200000; acc:  32.94; ppl: 93.91; xent: 4.54; lr: 1.00000; 14635/14715 tok/s;    420 sec\n",
            "[2019-12-29 19:54:58,530 INFO] Step 5600/200000; acc:  31.96; ppl: 90.27; xent: 4.50; lr: 1.00000; 14519/14822 tok/s;    423 sec\n",
            "[2019-12-29 19:55:02,527 INFO] Step 5650/200000; acc:  30.86; ppl: 103.85; xent: 4.64; lr: 1.00000; 14811/15128 tok/s;    427 sec\n",
            "[2019-12-29 19:55:06,317 INFO] Step 5700/200000; acc:  32.05; ppl: 107.34; xent: 4.68; lr: 1.00000; 14675/14314 tok/s;    431 sec\n",
            "[2019-12-29 19:55:09,933 INFO] Step 5750/200000; acc:  32.50; ppl: 92.14; xent: 4.52; lr: 1.00000; 14655/15080 tok/s;    435 sec\n",
            "[2019-12-29 19:55:13,732 INFO] Step 5800/200000; acc:  31.88; ppl: 108.51; xent: 4.69; lr: 1.00000; 15753/14791 tok/s;    439 sec\n",
            "[2019-12-29 19:55:17,482 INFO] Step 5850/200000; acc:  32.15; ppl: 83.40; xent: 4.42; lr: 1.00000; 12943/14820 tok/s;    442 sec\n",
            "[2019-12-29 19:55:21,469 INFO] Step 5900/200000; acc:  31.95; ppl: 120.64; xent: 4.79; lr: 1.00000; 15865/14594 tok/s;    446 sec\n",
            "[2019-12-29 19:55:25,717 INFO] Step 5950/200000; acc:  31.44; ppl: 111.27; xent: 4.71; lr: 1.00000; 15761/15188 tok/s;    451 sec\n",
            "[2019-12-29 19:55:29,135 INFO] Step 6000/200000; acc:  33.94; ppl: 96.84; xent: 4.57; lr: 1.00000; 16195/14779 tok/s;    454 sec\n",
            "[2019-12-29 19:55:32,658 INFO] Step 6050/200000; acc:  33.72; ppl: 97.24; xent: 4.58; lr: 1.00000; 16117/14548 tok/s;    457 sec\n",
            "[2019-12-29 19:55:36,382 INFO] Step 6100/200000; acc:  32.11; ppl: 87.95; xent: 4.48; lr: 1.00000; 14297/15249 tok/s;    461 sec\n",
            "[2019-12-29 19:55:40,160 INFO] Step 6150/200000; acc:  32.21; ppl: 96.59; xent: 4.57; lr: 1.00000; 15160/14454 tok/s;    465 sec\n",
            "[2019-12-29 19:55:42,714 INFO] Loading dataset from /content/drv/tmp/amen.train.0.pt\n",
            "[2019-12-29 19:55:49,768 INFO] number of examples: 395576\n",
            "[2019-12-29 19:55:53,386 INFO] Step 6200/200000; acc:  32.48; ppl: 91.59; xent: 4.52; lr: 1.00000; 4503/4515 tok/s;    478 sec\n",
            "[2019-12-29 19:55:57,144 INFO] Step 6250/200000; acc:  33.52; ppl: 80.58; xent: 4.39; lr: 1.00000; 14134/15173 tok/s;    482 sec\n",
            "[2019-12-29 19:56:01,002 INFO] Step 6300/200000; acc:  33.54; ppl: 88.54; xent: 4.48; lr: 1.00000; 15017/14911 tok/s;    486 sec\n",
            "[2019-12-29 19:56:04,649 INFO] Step 6350/200000; acc:  33.38; ppl: 101.41; xent: 4.62; lr: 1.00000; 15707/14587 tok/s;    489 sec\n",
            "[2019-12-29 19:56:08,466 INFO] Step 6400/200000; acc:  32.21; ppl: 93.49; xent: 4.54; lr: 1.00000; 15290/14986 tok/s;    493 sec\n",
            "[2019-12-29 19:56:11,968 INFO] Step 6450/200000; acc:  34.53; ppl: 88.71; xent: 4.49; lr: 1.00000; 15738/14410 tok/s;    497 sec\n",
            "[2019-12-29 19:56:15,751 INFO] Step 6500/200000; acc:  33.97; ppl: 84.78; xent: 4.44; lr: 1.00000; 14712/14824 tok/s;    501 sec\n",
            "[2019-12-29 19:56:19,090 INFO] Step 6550/200000; acc:  34.71; ppl: 85.17; xent: 4.44; lr: 1.00000; 15948/14445 tok/s;    504 sec\n",
            "[2019-12-29 19:56:22,521 INFO] Step 6600/200000; acc:  34.77; ppl: 86.86; xent: 4.46; lr: 1.00000; 15784/14557 tok/s;    507 sec\n",
            "[2019-12-29 19:56:25,830 INFO] Step 6650/200000; acc:  35.26; ppl: 70.49; xent: 4.26; lr: 1.00000; 13984/14630 tok/s;    511 sec\n",
            "[2019-12-29 19:56:29,504 INFO] Step 6700/200000; acc:  33.07; ppl: 90.01; xent: 4.50; lr: 1.00000; 14844/14681 tok/s;    514 sec\n",
            "[2019-12-29 19:56:33,265 INFO] Step 6750/200000; acc:  32.04; ppl: 99.28; xent: 4.60; lr: 1.00000; 15431/14735 tok/s;    518 sec\n",
            "[2019-12-29 19:56:36,800 INFO] Step 6800/200000; acc:  34.07; ppl: 82.60; xent: 4.41; lr: 1.00000; 15121/14737 tok/s;    522 sec\n",
            "[2019-12-29 19:56:40,555 INFO] Step 6850/200000; acc:  34.14; ppl: 78.53; xent: 4.36; lr: 1.00000; 14766/14589 tok/s;    525 sec\n",
            "[2019-12-29 19:56:44,064 INFO] Step 6900/200000; acc:  33.74; ppl: 84.00; xent: 4.43; lr: 1.00000; 14231/14194 tok/s;    529 sec\n",
            "[2019-12-29 19:56:47,777 INFO] Step 6950/200000; acc:  33.30; ppl: 77.82; xent: 4.35; lr: 1.00000; 14325/14996 tok/s;    533 sec\n",
            "[2019-12-29 19:56:51,752 INFO] Step 7000/200000; acc:  33.21; ppl: 86.01; xent: 4.45; lr: 1.00000; 14997/14770 tok/s;    537 sec\n",
            "[2019-12-29 19:56:55,445 INFO] Step 7050/200000; acc:  34.20; ppl: 89.17; xent: 4.49; lr: 1.00000; 15005/13968 tok/s;    540 sec\n",
            "[2019-12-29 19:56:59,011 INFO] Step 7100/200000; acc:  34.55; ppl: 74.31; xent: 4.31; lr: 1.00000; 15023/14867 tok/s;    544 sec\n",
            "[2019-12-29 19:57:02,882 INFO] Step 7150/200000; acc:  33.65; ppl: 76.66; xent: 4.34; lr: 1.00000; 14697/15179 tok/s;    548 sec\n",
            "[2019-12-29 19:57:06,411 INFO] Step 7200/200000; acc:  34.51; ppl: 68.49; xent: 4.23; lr: 1.00000; 14093/14996 tok/s;    551 sec\n",
            "[2019-12-29 19:57:10,147 INFO] Step 7250/200000; acc:  33.44; ppl: 85.44; xent: 4.45; lr: 1.00000; 15573/14640 tok/s;    555 sec\n",
            "[2019-12-29 19:57:14,016 INFO] Step 7300/200000; acc:  33.94; ppl: 83.51; xent: 4.42; lr: 1.00000; 16015/14733 tok/s;    559 sec\n",
            "[2019-12-29 19:57:17,899 INFO] Step 7350/200000; acc:  33.39; ppl: 70.90; xent: 4.26; lr: 1.00000; 14015/15206 tok/s;    563 sec\n",
            "[2019-12-29 19:57:21,529 INFO] Step 7400/200000; acc:  34.27; ppl: 76.97; xent: 4.34; lr: 1.00000; 15178/14998 tok/s;    566 sec\n",
            "[2019-12-29 19:57:25,489 INFO] Step 7450/200000; acc:  32.66; ppl: 82.63; xent: 4.41; lr: 1.00000; 14814/14607 tok/s;    570 sec\n",
            "[2019-12-29 19:57:29,181 INFO] Step 7500/200000; acc:  35.08; ppl: 63.93; xent: 4.16; lr: 1.00000; 14215/14817 tok/s;    574 sec\n",
            "[2019-12-29 19:57:32,724 INFO] Step 7550/200000; acc:  34.67; ppl: 78.26; xent: 4.36; lr: 1.00000; 15878/14628 tok/s;    578 sec\n",
            "[2019-12-29 19:57:36,562 INFO] Step 7600/200000; acc:  33.50; ppl: 71.90; xent: 4.28; lr: 1.00000; 14606/15207 tok/s;    581 sec\n",
            "[2019-12-29 19:57:40,361 INFO] Step 7650/200000; acc:  33.96; ppl: 81.13; xent: 4.40; lr: 1.00000; 15840/14837 tok/s;    585 sec\n",
            "[2019-12-29 19:57:43,834 INFO] Step 7700/200000; acc:  35.78; ppl: 75.31; xent: 4.32; lr: 1.00000; 15665/14266 tok/s;    589 sec\n",
            "[2019-12-29 19:57:48,080 INFO] Step 7750/200000; acc:  33.96; ppl: 75.64; xent: 4.33; lr: 1.00000; 14289/14445 tok/s;    593 sec\n",
            "[2019-12-29 19:57:51,765 INFO] Step 7800/200000; acc:  34.88; ppl: 62.82; xent: 4.14; lr: 1.00000; 14278/14944 tok/s;    597 sec\n",
            "[2019-12-29 19:57:55,143 INFO] Step 7850/200000; acc:  36.28; ppl: 57.99; xent: 4.06; lr: 1.00000; 14400/14720 tok/s;    600 sec\n",
            "[2019-12-29 19:57:59,134 INFO] Step 7900/200000; acc:  34.17; ppl: 72.55; xent: 4.28; lr: 1.00000; 15366/14987 tok/s;    604 sec\n",
            "[2019-12-29 19:58:02,937 INFO] Step 7950/200000; acc:  34.76; ppl: 64.31; xent: 4.16; lr: 1.00000; 13883/14612 tok/s;    608 sec\n",
            "[2019-12-29 19:58:06,857 INFO] Step 8000/200000; acc:  33.86; ppl: 60.93; xent: 4.11; lr: 1.00000; 13650/15252 tok/s;    612 sec\n",
            "[2019-12-29 19:58:10,572 INFO] Step 8050/200000; acc:  34.05; ppl: 71.90; xent: 4.28; lr: 1.00000; 14370/14910 tok/s;    615 sec\n",
            "[2019-12-29 19:58:14,009 INFO] Step 8100/200000; acc:  35.98; ppl: 59.75; xent: 4.09; lr: 1.00000; 13841/14388 tok/s;    619 sec\n",
            "[2019-12-29 19:58:17,502 INFO] Step 8150/200000; acc:  35.88; ppl: 64.82; xent: 4.17; lr: 1.00000; 14421/14643 tok/s;    622 sec\n",
            "[2019-12-29 19:58:21,613 INFO] Step 8200/200000; acc:  34.93; ppl: 70.17; xent: 4.25; lr: 1.00000; 15064/14210 tok/s;    626 sec\n",
            "[2019-12-29 19:58:25,473 INFO] Step 8250/200000; acc:  34.59; ppl: 65.34; xent: 4.18; lr: 1.00000; 14574/15140 tok/s;    630 sec\n",
            "[2019-12-29 19:58:29,090 INFO] Step 8300/200000; acc:  35.40; ppl: 62.41; xent: 4.13; lr: 1.00000; 14619/14855 tok/s;    634 sec\n",
            "[2019-12-29 19:58:32,645 INFO] Step 8350/200000; acc:  36.10; ppl: 65.67; xent: 4.18; lr: 1.00000; 14958/14583 tok/s;    637 sec\n",
            "[2019-12-29 19:58:36,597 INFO] Step 8400/200000; acc:  34.34; ppl: 62.18; xent: 4.13; lr: 1.00000; 14269/15466 tok/s;    641 sec\n",
            "[2019-12-29 19:58:40,408 INFO] Step 8450/200000; acc:  35.05; ppl: 57.23; xent: 4.05; lr: 1.00000; 14058/14859 tok/s;    645 sec\n",
            "[2019-12-29 19:58:44,002 INFO] Step 8500/200000; acc:  35.40; ppl: 64.50; xent: 4.17; lr: 1.00000; 14823/14461 tok/s;    649 sec\n",
            "[2019-12-29 19:58:47,573 INFO] Step 8550/200000; acc:  35.86; ppl: 65.47; xent: 4.18; lr: 1.00000; 15215/14702 tok/s;    652 sec\n",
            "[2019-12-29 19:58:51,218 INFO] Step 8600/200000; acc:  35.99; ppl: 52.15; xent: 3.95; lr: 1.00000; 13101/14940 tok/s;    656 sec\n",
            "[2019-12-29 19:58:54,918 INFO] Step 8650/200000; acc:  35.27; ppl: 60.52; xent: 4.10; lr: 1.00000; 14255/14733 tok/s;    660 sec\n",
            "[2019-12-29 19:58:58,830 INFO] Step 8700/200000; acc:  34.41; ppl: 66.86; xent: 4.20; lr: 1.00000; 14198/14919 tok/s;    664 sec\n",
            "[2019-12-29 19:59:02,980 INFO] Step 8750/200000; acc:  34.90; ppl: 58.12; xent: 4.06; lr: 1.00000; 14082/15259 tok/s;    668 sec\n",
            "[2019-12-29 19:59:06,689 INFO] Step 8800/200000; acc:  35.62; ppl: 64.26; xent: 4.16; lr: 1.00000; 15824/14611 tok/s;    671 sec\n",
            "[2019-12-29 19:59:10,705 INFO] Step 8850/200000; acc:  35.42; ppl: 57.13; xent: 4.05; lr: 1.00000; 14058/15329 tok/s;    676 sec\n",
            "[2019-12-29 19:59:14,389 INFO] Step 8900/200000; acc:  35.64; ppl: 60.97; xent: 4.11; lr: 1.00000; 15447/14877 tok/s;    679 sec\n",
            "[2019-12-29 19:59:18,249 INFO] Step 8950/200000; acc:  34.92; ppl: 65.40; xent: 4.18; lr: 1.00000; 14575/14936 tok/s;    683 sec\n",
            "[2019-12-29 19:59:22,224 INFO] Step 9000/200000; acc:  34.75; ppl: 69.93; xent: 4.25; lr: 1.00000; 14862/14144 tok/s;    687 sec\n",
            "[2019-12-29 19:59:25,907 INFO] Step 9050/200000; acc:  36.15; ppl: 55.14; xent: 4.01; lr: 1.00000; 14686/14985 tok/s;    691 sec\n",
            "[2019-12-29 19:59:29,416 INFO] Step 9100/200000; acc:  36.43; ppl: 65.06; xent: 4.18; lr: 1.00000; 15976/14662 tok/s;    694 sec\n",
            "[2019-12-29 19:59:33,326 INFO] Step 9150/200000; acc:  35.98; ppl: 57.89; xent: 4.06; lr: 1.00000; 14587/15081 tok/s;    698 sec\n",
            "[2019-12-29 19:59:36,998 INFO] Step 9200/200000; acc:  37.08; ppl: 57.80; xent: 4.06; lr: 1.00000; 14688/14356 tok/s;    702 sec\n",
            "[2019-12-29 19:59:40,576 INFO] Step 9250/200000; acc:  36.99; ppl: 54.52; xent: 4.00; lr: 1.00000; 15221/15038 tok/s;    705 sec\n",
            "[2019-12-29 19:59:44,548 INFO] Step 9300/200000; acc:  36.09; ppl: 57.12; xent: 4.05; lr: 1.00000; 14449/14647 tok/s;    709 sec\n",
            "[2019-12-29 19:59:48,355 INFO] Step 9350/200000; acc:  35.08; ppl: 63.53; xent: 4.15; lr: 1.00000; 15470/14790 tok/s;    713 sec\n",
            "[2019-12-29 19:59:51,801 INFO] Step 9400/200000; acc:  37.58; ppl: 51.68; xent: 3.95; lr: 1.00000; 14539/14792 tok/s;    717 sec\n",
            "[2019-12-29 19:59:55,435 INFO] Step 9450/200000; acc:  37.13; ppl: 56.80; xent: 4.04; lr: 1.00000; 15203/14722 tok/s;    720 sec\n",
            "[2019-12-29 19:59:59,541 INFO] Step 9500/200000; acc:  34.78; ppl: 58.13; xent: 4.06; lr: 1.00000; 13761/15680 tok/s;    724 sec\n",
            "[2019-12-29 20:00:02,935 INFO] Step 9550/200000; acc:  36.72; ppl: 55.55; xent: 4.02; lr: 1.00000; 14657/14537 tok/s;    728 sec\n",
            "[2019-12-29 20:00:07,007 INFO] Step 9600/200000; acc:  34.81; ppl: 65.03; xent: 4.17; lr: 1.00000; 15088/14522 tok/s;    732 sec\n",
            "[2019-12-29 20:00:10,844 INFO] Step 9650/200000; acc:  36.38; ppl: 55.73; xent: 4.02; lr: 1.00000; 14931/15076 tok/s;    736 sec\n",
            "[2019-12-29 20:00:14,328 INFO] Step 9700/200000; acc:  36.83; ppl: 54.14; xent: 3.99; lr: 1.00000; 14899/14584 tok/s;    739 sec\n",
            "[2019-12-29 20:00:18,338 INFO] Step 9750/200000; acc:  35.97; ppl: 56.37; xent: 4.03; lr: 1.00000; 15050/15174 tok/s;    743 sec\n",
            "[2019-12-29 20:00:22,554 INFO] Step 9800/200000; acc:  35.34; ppl: 56.50; xent: 4.03; lr: 1.00000; 14470/15194 tok/s;    747 sec\n",
            "[2019-12-29 20:00:26,342 INFO] Step 9850/200000; acc:  36.41; ppl: 47.33; xent: 3.86; lr: 1.00000; 13549/15246 tok/s;    751 sec\n",
            "[2019-12-29 20:00:29,796 INFO] Step 9900/200000; acc:  37.53; ppl: 50.16; xent: 3.92; lr: 1.00000; 15068/14771 tok/s;    755 sec\n",
            "[2019-12-29 20:00:33,382 INFO] Step 9950/200000; acc:  37.63; ppl: 48.41; xent: 3.88; lr: 1.00000; 14146/14433 tok/s;    758 sec\n",
            "[2019-12-29 20:00:37,080 INFO] Step 10000/200000; acc:  37.52; ppl: 49.29; xent: 3.90; lr: 1.00000; 14275/14348 tok/s;    762 sec\n",
            "[2019-12-29 20:00:37,080 INFO] Loading dataset from /content/drv/tmp/amen.valid.0.pt\n",
            "[2019-12-29 20:00:37,178 INFO] number of examples: 10728\n",
            "[2019-12-29 20:00:54,662 INFO] Validation perplexity: 43.9489\n",
            "[2019-12-29 20:00:54,663 INFO] Validation accuracy: 39.6622\n",
            "[2019-12-29 20:00:56,783 INFO] Saving checkpoint /content/drv/tmp/amen_step_10000.pt\n",
            "[2019-12-29 20:01:01,852 INFO] Step 10050/200000; acc:  36.41; ppl: 52.73; xent: 3.97; lr: 1.00000; 2144/2199 tok/s;    787 sec\n",
            "[2019-12-29 20:01:05,546 INFO] Step 10100/200000; acc:  38.06; ppl: 52.74; xent: 3.97; lr: 1.00000; 15376/13832 tok/s;    790 sec\n",
            "[2019-12-29 20:01:09,615 INFO] Step 10150/200000; acc:  35.60; ppl: 54.00; xent: 3.99; lr: 1.00000; 14107/14647 tok/s;    794 sec\n",
            "[2019-12-29 20:01:13,286 INFO] Step 10200/200000; acc:  38.04; ppl: 40.82; xent: 3.71; lr: 1.00000; 13026/14898 tok/s;    798 sec\n",
            "[2019-12-29 20:01:16,605 INFO] Step 10250/200000; acc:  38.38; ppl: 51.50; xent: 3.94; lr: 1.00000; 15946/14409 tok/s;    801 sec\n",
            "[2019-12-29 20:01:20,257 INFO] Step 10300/200000; acc:  36.56; ppl: 52.26; xent: 3.96; lr: 1.00000; 14528/14743 tok/s;    805 sec\n"
          ],
          "name": "stdout"
        }
      ]
    },
    {
      "cell_type": "code",
      "metadata": {
        "id": "qE6kHDDNmxXr",
        "colab_type": "code",
        "outputId": "7dad2e00-00e4-401d-fd3f-63db00810f44",
        "colab": {
          "base_uri": "https://localhost:8080/",
          "height": 225
        }
      },
      "source": [
        "pip install dropbox"
      ],
      "execution_count": 0,
      "outputs": [
        {
          "output_type": "stream",
          "text": [
            "Collecting dropbox\n",
            "\u001b[?25l  Downloading https://files.pythonhosted.org/packages/60/37/1874bedfdbac91c8abfb1ddb133599306d65fca44dcd592fa5e84afbf181/dropbox-9.4.0-py3-none-any.whl (543kB)\n",
            "\r\u001b[K     |▋                               | 10kB 15.3MB/s eta 0:00:01\r\u001b[K     |█▏                              | 20kB 3.1MB/s eta 0:00:01\r\u001b[K     |█▉                              | 30kB 4.2MB/s eta 0:00:01\r\u001b[K     |██▍                             | 40kB 3.0MB/s eta 0:00:01\r\u001b[K     |███                             | 51kB 3.5MB/s eta 0:00:01\r\u001b[K     |███▋                            | 61kB 4.2MB/s eta 0:00:01\r\u001b[K     |████▏                           | 71kB 4.4MB/s eta 0:00:01\r\u001b[K     |████▉                           | 81kB 4.6MB/s eta 0:00:01\r\u001b[K     |█████▍                          | 92kB 5.1MB/s eta 0:00:01\r\u001b[K     |██████                          | 102kB 4.9MB/s eta 0:00:01\r\u001b[K     |██████▋                         | 112kB 4.9MB/s eta 0:00:01\r\u001b[K     |███████▎                        | 122kB 4.9MB/s eta 0:00:01\r\u001b[K     |███████▉                        | 133kB 4.9MB/s eta 0:00:01\r\u001b[K     |████████▍                       | 143kB 4.9MB/s eta 0:00:01\r\u001b[K     |█████████                       | 153kB 4.9MB/s eta 0:00:01\r\u001b[K     |█████████▋                      | 163kB 4.9MB/s eta 0:00:01\r\u001b[K     |██████████▎                     | 174kB 4.9MB/s eta 0:00:01\r\u001b[K     |██████████▉                     | 184kB 4.9MB/s eta 0:00:01\r\u001b[K     |███████████▌                    | 194kB 4.9MB/s eta 0:00:01\r\u001b[K     |████████████                    | 204kB 4.9MB/s eta 0:00:01\r\u001b[K     |████████████▋                   | 215kB 4.9MB/s eta 0:00:01\r\u001b[K     |█████████████▎                  | 225kB 4.9MB/s eta 0:00:01\r\u001b[K     |█████████████▉                  | 235kB 4.9MB/s eta 0:00:01\r\u001b[K     |██████████████▌                 | 245kB 4.9MB/s eta 0:00:01\r\u001b[K     |███████████████                 | 256kB 4.9MB/s eta 0:00:01\r\u001b[K     |███████████████▋                | 266kB 4.9MB/s eta 0:00:01\r\u001b[K     |████████████████▎               | 276kB 4.9MB/s eta 0:00:01\r\u001b[K     |████████████████▉               | 286kB 4.9MB/s eta 0:00:01\r\u001b[K     |█████████████████▌              | 296kB 4.9MB/s eta 0:00:01\r\u001b[K     |██████████████████              | 307kB 4.9MB/s eta 0:00:01\r\u001b[K     |██████████████████▊             | 317kB 4.9MB/s eta 0:00:01\r\u001b[K     |███████████████████▎            | 327kB 4.9MB/s eta 0:00:01\r\u001b[K     |███████████████████▉            | 337kB 4.9MB/s eta 0:00:01\r\u001b[K     |████████████████████▌           | 348kB 4.9MB/s eta 0:00:01\r\u001b[K     |█████████████████████           | 358kB 4.9MB/s eta 0:00:01\r\u001b[K     |█████████████████████▊          | 368kB 4.9MB/s eta 0:00:01\r\u001b[K     |██████████████████████▎         | 378kB 4.9MB/s eta 0:00:01\r\u001b[K     |███████████████████████         | 389kB 4.9MB/s eta 0:00:01\r\u001b[K     |███████████████████████▌        | 399kB 4.9MB/s eta 0:00:01\r\u001b[K     |████████████████████████        | 409kB 4.9MB/s eta 0:00:01\r\u001b[K     |████████████████████████▊       | 419kB 4.9MB/s eta 0:00:01\r\u001b[K     |█████████████████████████▎      | 430kB 4.9MB/s eta 0:00:01\r\u001b[K     |██████████████████████████      | 440kB 4.9MB/s eta 0:00:01\r\u001b[K     |██████████████████████████▌     | 450kB 4.9MB/s eta 0:00:01\r\u001b[K     |███████████████████████████▏    | 460kB 4.9MB/s eta 0:00:01\r\u001b[K     |███████████████████████████▊    | 471kB 4.9MB/s eta 0:00:01\r\u001b[K     |████████████████████████████▎   | 481kB 4.9MB/s eta 0:00:01\r\u001b[K     |█████████████████████████████   | 491kB 4.9MB/s eta 0:00:01\r\u001b[K     |█████████████████████████████▌  | 501kB 4.9MB/s eta 0:00:01\r\u001b[K     |██████████████████████████████▏ | 512kB 4.9MB/s eta 0:00:01\r\u001b[K     |██████████████████████████████▊ | 522kB 4.9MB/s eta 0:00:01\r\u001b[K     |███████████████████████████████▎| 532kB 4.9MB/s eta 0:00:01\r\u001b[K     |████████████████████████████████| 542kB 4.9MB/s eta 0:00:01\r\u001b[K     |████████████████████████████████| 552kB 4.9MB/s \n",
            "\u001b[?25hRequirement already satisfied: six>=1.3.0 in /usr/local/lib/python3.6/dist-packages (from dropbox) (1.12.0)\n",
            "Requirement already satisfied: requests>=2.16.2 in /usr/local/lib/python3.6/dist-packages (from dropbox) (2.21.0)\n",
            "Requirement already satisfied: urllib3<1.25,>=1.21.1 in /usr/local/lib/python3.6/dist-packages (from requests>=2.16.2->dropbox) (1.24.3)\n",
            "Requirement already satisfied: idna<2.9,>=2.5 in /usr/local/lib/python3.6/dist-packages (from requests>=2.16.2->dropbox) (2.8)\n",
            "Requirement already satisfied: certifi>=2017.4.17 in /usr/local/lib/python3.6/dist-packages (from requests>=2.16.2->dropbox) (2019.11.28)\n",
            "Requirement already satisfied: chardet<3.1.0,>=3.0.2 in /usr/local/lib/python3.6/dist-packages (from requests>=2.16.2->dropbox) (3.0.4)\n",
            "Installing collected packages: dropbox\n",
            "Successfully installed dropbox-9.4.0\n"
          ],
          "name": "stdout"
        }
      ]
    },
    {
      "cell_type": "code",
      "metadata": {
        "id": "9M4XX1EVmt62",
        "colab_type": "code",
        "colab": {}
      },
      "source": [
        "import dropbox\n",
        "dbx = dropbox.Dropbox(\"-i_7ozO5zaAAAAAAAAAAPuFH_Hn7nl_694IlMN3pSD6dX7OIXob2_oh4goXnlYUY\")\n",
        "import os\n",
        "\n",
        "from tqdm import tqdm\n",
        "\n",
        "import dropbox\n",
        "\n",
        "\n",
        "def upload(\n",
        "    access_token,\n",
        "    file_path,\n",
        "    target_path,\n",
        "    timeout=900,\n",
        "    chunk_size=4 * 1024 * 1024,\n",
        "):\n",
        "    dbx = dropbox.Dropbox(access_token, timeout=timeout)\n",
        "    with open(file_path, \"rb\") as f:\n",
        "        file_size = os.path.getsize(file_path)\n",
        "        chunk_size = 4 * 1024 * 1024\n",
        "        if file_size <= chunk_size:\n",
        "            print(dbx.files_upload(f, target_path))\n",
        "        else:\n",
        "            with tqdm(total=file_size, desc=\"Uploaded\") as pbar:\n",
        "                upload_session_start_result = dbx.files_upload_session_start(\n",
        "                    f.read(chunk_size)\n",
        "                )\n",
        "                pbar.update(chunk_size)\n",
        "                cursor = dropbox.files.UploadSessionCursor(\n",
        "                    session_id=upload_session_start_result.session_id,\n",
        "                    offset=f.tell(),\n",
        "                )\n",
        "                commit = dropbox.files.CommitInfo(path=target_path)\n",
        "                while f.tell() < file_size:\n",
        "                    if (file_size - f.tell()) <= chunk_size:\n",
        "                        print(\n",
        "                            dbx.files_upload_session_finish(\n",
        "                                f.read(chunk_size), cursor, commit\n",
        "                            )\n",
        "                        )\n",
        "                    else:\n",
        "                        dbx.files_upload_session_append(\n",
        "                            f.read(chunk_size),\n",
        "                            cursor.session_id,\n",
        "                            cursor.offset,\n",
        "                        )\n",
        "                        cursor.offset = f.tell()\n",
        "                    pbar.update(chunk_size)"
      ],
      "execution_count": 0,
      "outputs": []
    },
    {
      "cell_type": "code",
      "metadata": {
        "id": "lW0Zi-b-m11j",
        "colab_type": "code",
        "outputId": "c70ca271-3ebf-413b-d9d7-db0c883a92fd",
        "colab": {
          "base_uri": "https://localhost:8080/",
          "height": 72
        }
      },
      "source": [
        "upload(\"-i_7ozO5zaAAAAAAAAAAPuFH_Hn7nl_694IlMN3pSD6dX7OIXob2_oh4goXnlYUY\",\"/content/drive/My Drive/tmp/amen_step_8000.pt\",\"/modl.pt\",chunk_size=11*1024*1024)"
      ],
      "execution_count": 0,
      "outputs": [
        {
          "output_type": "stream",
          "text": [
            "Uploaded: 1480589312it [06:30, 3733401.63it/s]                                "
          ],
          "name": "stderr"
        },
        {
          "output_type": "stream",
          "text": [
            "FileMetadata(name='modl.pt', id='id:YjQht7JrcxAAAAAAAAAANg', client_modified=datetime.datetime(2019, 12, 24, 6, 57, 4), server_modified=datetime.datetime(2019, 12, 24, 6, 57, 4), rev='59a6da6d6874ff71f07b0', size=1476543295, path_lower='/modl.pt', path_display='/modl.pt', parent_shared_folder_id=None, media_info=None, symlink_info=None, sharing_info=None, is_downloadable=True, export_info=None, property_groups=None, has_explicit_shared_members=None, content_hash='64a1a98a8aea82b2ecfcf0564fe14c539f355c72eda91f7bb37795252a964323')\n"
          ],
          "name": "stdout"
        },
        {
          "output_type": "stream",
          "text": [
            "\n"
          ],
          "name": "stderr"
        }
      ]
    },
    {
      "cell_type": "markdown",
      "metadata": {
        "id": "uONKOGMMr85d",
        "colab_type": "text"
      },
      "source": [
        "### **Test Model**"
      ]
    },
    {
      "cell_type": "markdown",
      "metadata": {
        "id": "5p7VR5PTKwTG",
        "colab_type": "text"
      },
      "source": [
        "Tokenize function"
      ]
    },
    {
      "cell_type": "code",
      "metadata": {
        "id": "TRqeWPZycsR9",
        "colab_type": "code",
        "colab": {}
      },
      "source": [
        "pyonmttok.__vesion__"
      ],
      "execution_count": 0,
      "outputs": []
    },
    {
      "cell_type": "code",
      "metadata": {
        "id": "KSuqyOK0KvyY",
        "colab_type": "code",
        "colab": {}
      },
      "source": [
        "import pyonmttok\n",
        "def tokenizek(bpe):\n",
        "  tokenizer = pyonmttok.Tokenizer(\"aggressive\", sp_model_path=bpe, joiner_annotate=True, segment_numbers=True)\n",
        "  return tokenizer\n",
        "\n",
        "modl = tokenizek(bpe.replace(\"\\\\\",\"\")+\".model\")\n"
      ],
      "execution_count": 0,
      "outputs": []
    },
    {
      "cell_type": "code",
      "metadata": {
        "id": "UGvGIQk3IzV3",
        "colab_type": "code",
        "colab": {}
      },
      "source": [
        "def token(inp,tk):\n",
        "    ar = inp.split(\"\\n\")\n",
        "    return \"\\n\".join([(\" \".join([oj for oj in tk.tokenize(ot)[0]])) for ot in ar])"
      ],
      "execution_count": 0,
      "outputs": []
    },
    {
      "cell_type": "code",
      "metadata": {
        "id": "_gjJQH8qx8K4",
        "colab_type": "code",
        "outputId": "092cad69-843c-438e-ded8-850b7a541910",
        "colab": {
          "base_uri": "https://localhost:8080/",
          "height": 52
        }
      },
      "source": [
        "token(\"እንዴት ነሽ?\",modl)"
      ],
      "execution_count": 0,
      "outputs": [
        {
          "output_type": "execute_result",
          "data": {
            "text/plain": [
              "'እ ￭ን ￭ዴ ￭ት ነ ￭ሽ ￭?'"
            ]
          },
          "metadata": {
            "tags": []
          },
          "execution_count": 133
        }
      ]
    },
    {
      "cell_type": "code",
      "metadata": {
        "id": "vgIYO78Sr8Nv",
        "colab_type": "code",
        "outputId": "69f022f2-b373-41c1-f8f4-0de25d45c475",
        "colab": {
          "base_uri": "https://localhost:8080/",
          "height": 121
        }
      },
      "source": [
        "TEXT = \"are you fine\"\n",
        "dfl = open(\"tmpfile\",mode=\"w+\",encoding=\"UTF-8\")\n",
        "dfl.write(TEXT)\n",
        "\n",
        "dfl.close()\n",
        "modl.tokenize_file(\"tmpfile\",\"tmpfile.token\")\n",
        "with open('tmpfile.token', 'r') as src:\n",
        "    with open('tmpfile', 'w') as dest:\n",
        "       for line in src:\n",
        "           dest.write('%s%s\\n' % (\"<2am> \", line.rstrip('\\n')))\n",
        "!python OpenNMT-py/translate.py --model \"/content/drive/My Drive/tmp/amen_step_25000.pt\" --replace_unk --attn_debug --src tmpfile  --output tmpout\n",
        "modl.detokenize_file(\"tmpout\",\"tmpout.out\")\n",
        "fl = open(\"tmpout.out\",mode=\"r\",encoding=\"UTF-8\")\n",
        "s = fl.read().strip()\n",
        "s"
      ],
      "execution_count": 0,
      "outputs": [
        {
          "output_type": "stream",
          "text": [
            "[2019-12-29 19:33:28,382 INFO] Translating shard 0.\n",
            "                <2am>          a         ￭r         ￭e          y         ￭o         ￭u          f         ￭i         ￭n         ￭e \n",
            "      </s>  0.0889488  0.1035757  0.0461557  0.0394951  0.0473681  0.0721605  0.0952252  0.1161709 *0.2088992  0.1266437  0.0553572 \n",
            "PRED No words predicted\n"
          ],
          "name": "stdout"
        },
        {
          "output_type": "execute_result",
          "data": {
            "text/plain": [
              "''"
            ]
          },
          "metadata": {
            "tags": []
          },
          "execution_count": 139
        }
      ]
    },
    {
      "cell_type": "code",
      "metadata": {
        "id": "mftJ4e7czdrT",
        "colab_type": "code",
        "outputId": "797c625f-b67e-48f9-cc6a-881c7bd5a459",
        "colab": {
          "base_uri": "https://localhost:8080/",
          "height": 34
        }
      },
      "source": [
        "open(\"modl\",mode=\"wb\").write(open(\"/content/drive/My Drive/tmp/amen_step_100000.pt\",mode=\"rb\").read())"
      ],
      "execution_count": 0,
      "outputs": [
        {
          "output_type": "execute_result",
          "data": {
            "text/plain": [
              "683687053"
            ]
          },
          "metadata": {
            "tags": []
          },
          "execution_count": 130
        }
      ]
    },
    {
      "cell_type": "code",
      "metadata": {
        "id": "gIJYb4XzCsFq",
        "colab_type": "code",
        "colab": {}
      },
      "source": [
        ""
      ],
      "execution_count": 0,
      "outputs": []
    },
    {
      "cell_type": "code",
      "metadata": {
        "id": "GbrcDOcHNuQ7",
        "colab_type": "code",
        "colab": {}
      },
      "source": [
        "import onmt\n",
        "import onmt.inputters\n",
        "import onmt.translate\n",
        "import onmt.model_builder\n",
        "from collections import namedtuple\n",
        "\n",
        "# Load the model.\n",
        "Opt = namedtuple('Opt', ['model', 'data_type', 'reuse_copy_attn', \"gpu\",\"fp32\"])\n",
        "\n",
        "\n",
        "\n",
        "opt = Opt(\"/content/modl\", \"text\",False, 0,False)\n",
        "fields, model, model_opt =  onmt.model_builder.load_test_model(opt,\"/content/modl\")\n",
        "\n",
        "\n",
        "\n",
        "# Translator\n",
        "translator = onmt.translate.Translator(model, fields,\n",
        "                                           beam_size=5,\n",
        "                                           n_best=1,\n",
        "                                           global_scorer=onmt.translate.GNMTGlobalScorer(0, 0, \"none\", \"none\"),\n",
        "                                           src_reader=\"text\",\n",
        "                                           tgt_reader=\"text\",\n",
        "                                           gpu=0)\n"
      ],
      "execution_count": 0,
      "outputs": []
    },
    {
      "cell_type": "code",
      "metadata": {
        "id": "c4kD3tzJuVCV",
        "colab_type": "code",
        "outputId": "2f8d6d7c-e856-4fd3-cf58-8d4ada5c8f84",
        "colab": {
          "base_uri": "https://localhost:8080/",
          "height": 321
        }
      },
      "source": [
        "translator.translate(onmt.inputters.text_dataset.TextDataReader().read(\"/content/tmpout\",\"src\"),batch_size=5)"
      ],
      "execution_count": 0,
      "outputs": [
        {
          "output_type": "error",
          "ename": "AttributeError",
          "evalue": "ignored",
          "traceback": [
            "\u001b[0;31m---------------------------------------------------------------------------\u001b[0m",
            "\u001b[0;31mAttributeError\u001b[0m                            Traceback (most recent call last)",
            "\u001b[0;32m<ipython-input-205-d72fe0669cd0>\u001b[0m in \u001b[0;36m<module>\u001b[0;34m()\u001b[0m\n\u001b[0;32m----> 1\u001b[0;31m \u001b[0mtranslator\u001b[0m\u001b[0;34m.\u001b[0m\u001b[0mtranslate\u001b[0m\u001b[0;34m(\u001b[0m\u001b[0monmt\u001b[0m\u001b[0;34m.\u001b[0m\u001b[0minputters\u001b[0m\u001b[0;34m.\u001b[0m\u001b[0mtext_dataset\u001b[0m\u001b[0;34m.\u001b[0m\u001b[0mTextDataReader\u001b[0m\u001b[0;34m(\u001b[0m\u001b[0;34m)\u001b[0m\u001b[0;34m.\u001b[0m\u001b[0mread\u001b[0m\u001b[0;34m(\u001b[0m\u001b[0;34m\"/content/tmpout\"\u001b[0m\u001b[0;34m,\u001b[0m\u001b[0;34m\"src\"\u001b[0m\u001b[0;34m)\u001b[0m\u001b[0;34m,\u001b[0m\u001b[0mbatch_size\u001b[0m\u001b[0;34m=\u001b[0m\u001b[0;36m5\u001b[0m\u001b[0;34m)\u001b[0m\u001b[0;34m\u001b[0m\u001b[0;34m\u001b[0m\u001b[0m\n\u001b[0m",
            "\u001b[0;32m/usr/local/lib/python3.6/dist-packages/onmt/translate/translator.py\u001b[0m in \u001b[0;36mtranslate\u001b[0;34m(self, src, tgt, src_dir, batch_size, batch_type, attn_debug, align_debug, phrase_table)\u001b[0m\n\u001b[1;32m    319\u001b[0m             \u001b[0mself\u001b[0m\u001b[0;34m.\u001b[0m\u001b[0mfields\u001b[0m\u001b[0;34m,\u001b[0m \u001b[0mreaders\u001b[0m\u001b[0;34m=\u001b[0m\u001b[0m_readers\u001b[0m\u001b[0;34m,\u001b[0m \u001b[0mdata\u001b[0m\u001b[0;34m=\u001b[0m\u001b[0m_data\u001b[0m\u001b[0;34m,\u001b[0m \u001b[0mdirs\u001b[0m\u001b[0;34m=\u001b[0m\u001b[0m_dir\u001b[0m\u001b[0;34m,\u001b[0m\u001b[0;34m\u001b[0m\u001b[0;34m\u001b[0m\u001b[0m\n\u001b[1;32m    320\u001b[0m             \u001b[0msort_key\u001b[0m\u001b[0;34m=\u001b[0m\u001b[0minputters\u001b[0m\u001b[0;34m.\u001b[0m\u001b[0mstr2sortkey\u001b[0m\u001b[0;34m[\u001b[0m\u001b[0mself\u001b[0m\u001b[0;34m.\u001b[0m\u001b[0mdata_type\u001b[0m\u001b[0;34m]\u001b[0m\u001b[0;34m,\u001b[0m\u001b[0;34m\u001b[0m\u001b[0;34m\u001b[0m\u001b[0m\n\u001b[0;32m--> 321\u001b[0;31m             \u001b[0mfilter_pred\u001b[0m\u001b[0;34m=\u001b[0m\u001b[0mself\u001b[0m\u001b[0;34m.\u001b[0m\u001b[0m_filter_pred\u001b[0m\u001b[0;34m\u001b[0m\u001b[0;34m\u001b[0m\u001b[0m\n\u001b[0m\u001b[1;32m    322\u001b[0m         )\n\u001b[1;32m    323\u001b[0m \u001b[0;34m\u001b[0m\u001b[0m\n",
            "\u001b[0;32m/usr/local/lib/python3.6/dist-packages/onmt/inputters/dataset_base.py\u001b[0m in \u001b[0;36m__init__\u001b[0;34m(self, fields, readers, data, dirs, sort_key, filter_pred)\u001b[0m\n\u001b[1;32m    114\u001b[0m \u001b[0;34m\u001b[0m\u001b[0m\n\u001b[1;32m    115\u001b[0m         read_iters = [r.read(dat[1], dat[0], dir_) for r, dat, dir_\n\u001b[0;32m--> 116\u001b[0;31m                       in zip(readers, data, dirs)]\n\u001b[0m\u001b[1;32m    117\u001b[0m \u001b[0;34m\u001b[0m\u001b[0m\n\u001b[1;32m    118\u001b[0m         \u001b[0;31m# self.src_vocabs is used in collapse_copy_scores and Translator.py\u001b[0m\u001b[0;34m\u001b[0m\u001b[0;34m\u001b[0m\u001b[0;34m\u001b[0m\u001b[0m\n",
            "\u001b[0;32m/usr/local/lib/python3.6/dist-packages/onmt/inputters/dataset_base.py\u001b[0m in \u001b[0;36m<listcomp>\u001b[0;34m(.0)\u001b[0m\n\u001b[1;32m    113\u001b[0m         \u001b[0mcan_copy\u001b[0m \u001b[0;34m=\u001b[0m \u001b[0;34m'src_map'\u001b[0m \u001b[0;32min\u001b[0m \u001b[0mfields\u001b[0m \u001b[0;32mand\u001b[0m \u001b[0;34m'alignment'\u001b[0m \u001b[0;32min\u001b[0m \u001b[0mfields\u001b[0m\u001b[0;34m\u001b[0m\u001b[0;34m\u001b[0m\u001b[0m\n\u001b[1;32m    114\u001b[0m \u001b[0;34m\u001b[0m\u001b[0m\n\u001b[0;32m--> 115\u001b[0;31m         read_iters = [r.read(dat[1], dat[0], dir_) for r, dat, dir_\n\u001b[0m\u001b[1;32m    116\u001b[0m                       in zip(readers, data, dirs)]\n\u001b[1;32m    117\u001b[0m \u001b[0;34m\u001b[0m\u001b[0m\n",
            "\u001b[0;31mAttributeError\u001b[0m: 'str' object has no attribute 'read'"
          ]
        }
      ]
    },
    {
      "cell_type": "code",
      "metadata": {
        "id": "IC3aQtQ2ZKHh",
        "colab_type": "code",
        "outputId": "eb0c8568-7aeb-442e-d96f-d62c2dfd1974",
        "colab": {
          "base_uri": "https://localhost:8080/",
          "height": 88
        }
      },
      "source": [
        "onmt.inputters.str2reader"
      ],
      "execution_count": 0,
      "outputs": [
        {
          "output_type": "execute_result",
          "data": {
            "text/plain": [
              "{'audio': onmt.inputters.audio_dataset.AudioDataReader,\n",
              " 'img': onmt.inputters.image_dataset.ImageDataReader,\n",
              " 'text': onmt.inputters.text_dataset.TextDataReader,\n",
              " 'vec': onmt.inputters.vec_dataset.VecDataReader}"
            ]
          },
          "metadata": {
            "tags": []
          },
          "execution_count": 204
        }
      ]
    },
    {
      "cell_type": "code",
      "metadata": {
        "id": "ERinLH8eZlUl",
        "colab_type": "code",
        "colab": {}
      },
      "source": [
        ""
      ],
      "execution_count": 0,
      "outputs": []
    }
  ]
}
